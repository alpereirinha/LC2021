{
 "cells": [
  {
   "cell_type": "markdown",
   "metadata": {},
   "source": [
    "# Problema 2\n",
    "\n",
    "**Grupo 8**\n",
    "- Anabela Pereira - A87990\n",
    "- André Gonçalves - A87942"
   ]
  },
  {
   "cell_type": "code",
   "execution_count": 1,
   "metadata": {},
   "outputs": [],
   "source": [
    "import random as r\n",
    "from z3 import *\n",
    "import networkx as nx\n",
    "from pyscipopt import Model,quicksum"
   ]
  },
  {
   "cell_type": "markdown",
   "metadata": {},
   "source": [
    "A função criar_circuito cria um grafo orientado para representar um circuito, returnando o grafo, dicionario com a informação sobre os vértices (se são input, gates add, \"rsr\" ou xor) e também um outro dicionário com a informação sobre os gates \"rsr\" dizendo o númeoro de bits que rodam de 1 a 15."
   ]
  },
  {
   "cell_type": "code",
   "execution_count": 2,
   "metadata": {},
   "outputs": [],
   "source": [
    "def value(s):\n",
    "    \n",
    "    if s == \"rsr\":\n",
    "        return 1\n",
    "    else:\n",
    "        return 2\n",
    "            \n",
    "    \n",
    "\n",
    "def criar_circuito(N,M,Y):\n",
    "    s = int(Y*M)     # numero de \"add\"s\n",
    "    \n",
    "    inputs = list(range(N))            # inputs\n",
    "    gates = list(range(N,N+M))        # gates\n",
    "\n",
    "    k = r.randrange(M-s+1)            # gates XOR\n",
    "    \n",
    "    circuito = nx.DiGraph()\n",
    " \n",
    "    labels = {}\n",
    "    rsr = {}  # valores de r\n",
    "    \n",
    "    for v in range(N+M):\n",
    "        circuito.add_node(v)\n",
    "        if v<N:\n",
    "            labels[v]=\"in\"\n",
    "        elif v<N+s:\n",
    "            labels[v]=\"add\"\n",
    "        elif v<N+s+k:\n",
    "            labels[v]=\"xor\"\n",
    "        elif v<N+M:\n",
    "            labels[v]=\"rsr\"\n",
    "            rsr[v]=r.randrange(1,16)\n",
    "        \n",
    "    prio = list(range(N+M)) # os que ainda não têm arcos out\n",
    "    \n",
    "    gates = list(range(N,N+M)) # gates\n",
    "     \n",
    "    while gates!=[]:\n",
    "        \n",
    "        v = r.choice(gates)\n",
    "        gates.remove(v)\n",
    "        \n",
    "        c_prio = prio.copy()\n",
    "        if v in c_prio:\n",
    "            c_prio.remove(v)\n",
    "        \n",
    "        n = list(circuito.nodes())\n",
    "        \n",
    "        for i in c_prio:\n",
    "            n.remove(i)\n",
    "        \n",
    "        n.remove(v)\n",
    "        \n",
    "        while c_prio != [] and value(labels[v])>circuito.in_degree(v) :\n",
    "            v1 = r.choice(c_prio)\n",
    "            c_prio.remove(v1)\n",
    "        \n",
    "            if not nx.has_path(circuito,v,v1) and not circuito.has_edge(v1,v):\n",
    "                circuito.add_edge(v1,v)\n",
    "                prio.remove(v1)\n",
    "        \n",
    "        \n",
    "        while n!=[] and value(labels[v])>circuito.in_degree(v):\n",
    "            v1 = r.choice(n)\n",
    "            n.remove(v1)\n",
    "        \n",
    "            if not nx.has_path(circuito,v,v1) and not circuito.has_edge(v1,v):\n",
    "                circuito.add_edge(v1,v)     \n",
    "                            \n",
    "    return circuito,labels,rsr"
   ]
  },
  {
   "cell_type": "code",
   "execution_count": 3,
   "metadata": {},
   "outputs": [
    {
     "data": {
      "image/png": "[encoded data removed]",
      "text/plain": [
       "<Figure size 432x288 with 1 Axes>"
      ]
     },
     "metadata": {},
     "output_type": "display_data"
    }
   ],
   "source": [
    "N = 4\n",
    "M = 17\n",
    "Y = 4/17\n",
    "G,labels,rsr = criar_circuito(N,M,Y)\n",
    "\n",
    "nx.draw_networkx(G) \n",
    "\n",
    "inp = [r.choices([0,1],k=16) for i in range(N)]"
   ]
  },
  {
   "cell_type": "markdown",
   "metadata": {},
   "source": [
    "A próxima função calcula o valor dando o input. É dado para a função o grafo com os arcos invertidos e assim usa recursividade, percorrendo o grafo começando do último gate, gate que vai dar o output final."
   ]
  },
  {
   "cell_type": "code",
   "execution_count": 4,
   "metadata": {},
   "outputs": [
    {
     "name": "stdout",
     "output_type": "stream",
     "text": [
      "Labels: {0: 'in', 1: 'in', 2: 'in', 3: 'in', 4: 'add', 5: 'add', 6: 'add', 7: 'add', 8: 'xor', 9: 'xor', 10: 'rsr', 11: 'rsr', 12: 'rsr', 13: 'rsr', 14: 'rsr', 15: 'rsr', 16: 'rsr', 17: 'rsr', 18: 'rsr', 19: 'rsr', 20: 'rsr'}\n",
      "Valores do rsr: {10: 6, 11: 8, 12: 2, 13: 3, 14: 14, 15: 12, 16: 3, 17: 7, 18: 9, 19: 8, 20: 12}\n"
     ]
    }
   ],
   "source": [
    "\n",
    "def xor(a,b):\n",
    "    return [a[i] ^ b[i] for i in range(16)]\n",
    "    \n",
    "    \n",
    "def rotate(a,n):\n",
    "    i=len(a)-n\n",
    "    return a[i:]+a[:i]\n",
    "    \n",
    "\n",
    "def soma(b,c):\n",
    "    carry = False\n",
    "    r = [False]*16\n",
    "    for i in range(15,-1,-1):\n",
    "        r[i] = (b[i]^ c[i]) ^ carry\n",
    "        carry = (c[i] and b[i]) or ((c[i] or b[i]) and carry)\n",
    "    return r\n",
    "\n",
    "\n",
    "print(\"Labels:\",labels)\n",
    "print(\"Valores do rsr:\",rsr)\n",
    "\n",
    "def percorre(v,circuito,inp,labels,rsr,somas):\n",
    "    \n",
    "    if labels[v] == \"in\":\n",
    "        return inp[v]\n",
    "    \n",
    "    elif labels[v] == \"add\":\n",
    "        l = list(circuito[v])\n",
    "        somas[v]= soma(percorre(l[0],circuito,inp,labels,rsr,somas),percorre(l[1],circuito,inp,labels,rsr,somas))\n",
    "        return somas[v]\n",
    "    \n",
    "    elif labels[v] == \"xor\":\n",
    "        v = list(circuito[v])\n",
    "        return xor(percorre(v[0],circuito,inp,labels,rsr,somas),percorre(v[1],circuito,inp,labels,rsr,somas))\n",
    "    \n",
    "    else: # labels(v) == \"rsr\":\n",
    "        l = list(circuito[v])\n",
    "        return rotate(percorre(l[0],circuito,inp,labels,rsr,somas),rsr[v])\n",
    "    \n",
    "\n",
    "def calcula(inp,circuito,labels,rsr):\n",
    "    \n",
    "    somas={}\n",
    "    \n",
    "    for v in circuito.nodes():\n",
    "        if circuito.in_degree(v) == 0:\n",
    "            inicial = v\n",
    "            break\n",
    "            \n",
    "    return percorre(v,circuito,inp,labels,rsr,somas),somas\n",
    "\n",
    "out,somas = calcula(inp,G.reverse(),labels,rsr)\n",
    "\n"
   ]
  },
  {
   "cell_type": "markdown",
   "metadata": {},
   "source": [
    "A função que calcula os possíveis inputs dando o output é estruturalmente semelhante á anterior. São utilizados bits vectors e lógica proposicional do Z3 para calcular os outputs."
   ]
  },
  {
   "cell_type": "code",
   "execution_count": 5,
   "metadata": {
    "scrolled": true
   },
   "outputs": [
    {
     "name": "stdout",
     "output_type": "stream",
     "text": [
      "input: [[0, 1, 0, 1, 1, 0, 1, 1, 1, 1, 1, 0, 0, 0, 0, 0], [1, 0, 1, 1, 0, 1, 1, 1, 0, 1, 1, 1, 0, 0, 1, 1], [0, 0, 1, 0, 0, 0, 1, 1, 1, 0, 1, 0, 1, 0, 1, 1], [1, 1, 1, 1, 0, 1, 0, 1, 1, 0, 0, 0, 0, 0, 0, 0]]\n",
      "output: [1, 1, 0, 0, 0, 1, 1, 1, 0, 1, 1, 0, 0, 0, 1, 1]\n",
      "Possíveis inputs: {0: ['1010000000011011', '0010011111001001', '0010001110101011', '1110000000100100'], 1: ['1011001100001000', '1010100111101001', '0010001110101011', '0101100000000100'], 2: ['1111001101001000', '1010100111101001', '0010001110101011', '0101100000000100'], 3: ['1111001101001000', '0010100111101001', '0010001110101011', '0101100000100100'], 4: ['1111011101001100', '0010100111101001', '0010001110101011', '0101100000100100'], 5: ['1111011101001100', '1010100111101001', '0010001110101011', '0101100000000100'], 6: ['1111111101000100', '1010100111101001', '0010001110101011', '0101100000000100'], 7: ['1111111101000100', '0010100111101001', '0010001110101011', '0101100000100100'], 8: ['1101111101100100', '0010100111101001', '0010001110101011', '0101100000100100'], 9: ['1101111101100100', '1010100111101001', '0010001110101011', '0101100000000100'], 10: ['1101011101101100', '1010100111101001', '0010001110101011', '0101100000000100'], 11: ['1101011101101100', '0010100111101001', '0010001110101011', '0101100000100100'], 12: ['1100011101111100', '0010100111101001', '0010001110101011', '0101100000100100'], 13: ['1100011101111100', '1010100111101001', '0010001110101011', '0101100000000100'], 14: ['1100010101111110', '1010100111101001', '0010001110101011', '0101100000000100'], 15: ['1100010101111110', '0010100111101001', '0010001110101011', '0101100000100100']}\n"
     ]
    }
   ],
   "source": [
    "def fromBin(a):# converte uma lista de 16 bits para um inteiro\n",
    "    r = 0\n",
    "    for i in range(16):\n",
    "        r = 2*r\n",
    "        if (a[i]==1):\n",
    "            r = r+1\n",
    "    return r\n",
    "   \n",
    "def toBin(a): # converte para binario\n",
    "    r = []\n",
    "    for _ in range(16):\n",
    "        r.insert(0,'1' if a%2==1 else '0')\n",
    "        a = a//2\n",
    "    return ''.join(r)\n",
    "\n",
    "    \n",
    "def rotate_z3(r,n):\n",
    "    return ((r<<(16-n)) | LShR(r,n))\n",
    "   \n",
    "def percorre_z3(v,circuito,labels,rsr,somas,inp,sol):\n",
    "    \n",
    "    if labels[v] == \"in\":\n",
    "        return inp[v]\n",
    "    \n",
    "    elif labels[v] == \"add\":\n",
    "        l = list(circuito[v])\n",
    "        obj=percorre_z3(l[0],circuito,labels,rsr,somas,inp,sol) + percorre_z3(l[1],circuito,labels,rsr,somas,inp,sol)\n",
    "        sol.add(BitVecVal(fromBin(somas[v]),16)==obj)\n",
    "        return obj\n",
    "    \n",
    "    elif labels[v] == \"xor\":\n",
    "        v = list(circuito[v])\n",
    "        return (percorre_z3(v[0],circuito,labels,rsr,somas,inp,sol) ^ percorre_z3(v[1],circuito,labels,rsr,somas,inp,sol))\n",
    "    \n",
    "    else: # labels(v) == \"rsr\":\n",
    "        l = list(circuito[v])\n",
    "        return rotate_z3(percorre_z3(l[0],circuito,labels,rsr,somas,inp,sol),rsr[v])\n",
    "\n",
    "\n",
    "    \n",
    "def inv_calcula(out,circuito,labels,rsr,somas,N):\n",
    "\n",
    "    out = BitVecVal(fromBin(out),16)\n",
    "    \n",
    "    inp = [BitVec(str(i), 16) for i in range(N)]\n",
    "    \n",
    "    sol = Solver()\n",
    "    \n",
    "    for v in circuito.nodes():\n",
    "        if circuito.in_degree(v) == 0:\n",
    "            inicial = v\n",
    "            break\n",
    "    \n",
    "    sol.add(out == percorre_z3(v,circuito,labels,rsr,somas,inp,sol))\n",
    "    \n",
    "    r = {}\n",
    "    c = 0\n",
    "    while sol.check() == sat:\n",
    "        m = sol.model()\n",
    "        r[c]=[]\n",
    "        for i in inp:\n",
    "            r[c].append(toBin(m[i].as_long()))\n",
    "    \n",
    "        sol.add(Or([m[i] != i for i in inp]))\n",
    "        c+=1\n",
    "        if c>15: # só vai até 15 possíveis inputs\n",
    "            break\n",
    "        \n",
    "    return r\n",
    "\n",
    "print(\"input:\",inp)\n",
    "print(\"output:\",out)\n",
    "\n",
    "print(\"Possíveis inputs:\",inv_calcula(out,G.reverse(),labels,rsr,somas,N))"
   ]
  }
 ],
 "metadata": {
  "kernelspec": {
   "display_name": "Python 3",
   "language": "python",
   "name": "python3"
  },
  "language_info": {
   "codemirror_mode": {
    "name": "ipython",
    "version": 3
   },
   "file_extension": ".py",
   "mimetype": "text/x-python",
   "name": "python",
   "nbconvert_exporter": "python",
   "pygments_lexer": "ipython3",
   "version": "3.8.5"
  }
 },
 "nbformat": 4,
 "nbformat_minor": 4
}
