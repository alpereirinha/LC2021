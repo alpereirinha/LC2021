{
 "cells": [
  {
   "cell_type": "markdown",
   "metadata": {},
   "source": [
    "**Anabela Pereira - A87990** <br>\n",
    "**André Gonçalves - A87942**\n",
    "\n",
    "# Problema 2"
   ]
  },
  {
   "cell_type": "code",
   "execution_count": 3,
   "metadata": {},
   "outputs": [],
   "source": [
    "from z3 import *\n",
    "import matplotlib.pyplot as plt\n",
    "from timeit import timeit"
   ]
  },
  {
   "cell_type": "markdown",
   "metadata": {},
   "source": [
    "## \"Pigeon Hole Principle\"\n",
    "`Existem N pombos e N-1 poleiros de pombos. Cada pombo ocupa totalmente um poleiro. Pretende-se alocar cada pombo a  um poleiro próprio.`"
   ]
  },
  {
   "cell_type": "markdown",
   "metadata": {},
   "source": [
    "    a.i.)\n",
    "Nesta alínea é nos pedido para provar através de **lógica proposicional** que \"*pigeon hole principle*\" não tem solução, para isso apresentamos as seguintes condições para resolvermos o problema.\n",
    "   \n",
    "**Condições**\n",
    "\n",
    "1. Todos os pombos têm um poleiro\n",
    "$$\n",
    "\\bigwedge_{i=0}^{N} \\bigvee_{j=0}^{N-1} p[i][j]\n",
    "$$\n",
    "2. Nenhum poleiro tem 2 (ou mais) pombos\n",
    "$$\n",
    "\\neg \\quad ( \\quad \\bigvee_{j = 0}^{N-1} \\bigvee_{i = 0}^{N-1} \\bigvee_{k = i+1}^{N} ( p[i][j]  \\wedge  p[k][j] )\\quad ) \n",
    "$$\n",
    "\n",
    "A função *prova_logica_proposicional* recebe um N(número de pombos) e guarda num dicionário, inicialmente vazio, todos os valores possíveis das combinações (i,j), sendo usado posteriormente pelo **Z3** para criar as regras de lógica. "
   ]
  },
  {
   "cell_type": "code",
   "execution_count": 2,
   "metadata": {},
   "outputs": [
    {
     "data": {
      "text/plain": [
       "False"
      ]
     },
     "execution_count": 2,
     "metadata": {},
     "output_type": "execute_result"
    }
   ],
   "source": [
    "def prova_logica_proposicional (N):\n",
    "    s = Solver()\n",
    "    \n",
    "    p={}\n",
    "    # O pombo i está no poleiro j\n",
    "    for i in range(N):\n",
    "        p[i]={}\n",
    "        for j in range(N-1):\n",
    "            p[i][j]=Bool(str(i)+','+str(j))\n",
    "    \n",
    "    # Todos os pombos têm um poleiro\n",
    "    s.add(And([Or([p[i][j] for j in range(N-1)]) for i in range(N)]))\n",
    "    \n",
    "    # Nenhum poleiro tem 2 (ou mais) pombos\n",
    "    s.add(Not(Or([Or([Or([And(p[i][j],p[k][j]) for k in range(i+1,N)]) for i in range(N-1)]) for j in range(N-1)])))\n",
    "    \n",
    "    return s.check()==sat\n",
    "\n",
    "prova_logica_proposicional(11)"
   ]
  },
  {
   "cell_type": "markdown",
   "metadata": {},
   "source": [
    "    a.ii.)\n",
    "Nesta alínea, diferente da anterior, é nos pedido para provarmos em **lógica inteira linear** que o problema apresentado não tem solução.\n",
    "\n",
    "**Condições**\n",
    "\n",
    "1. Cada pombo está num só poleiro\n",
    "$$\n",
    "\\forall_i \\cdot \\quad (\\sum_{j=0}^{N-1} p[i,j] \\quad ) = 1\n",
    "$$\n",
    "2. Cada poleiro só tem um pombo\n",
    "$$\n",
    " \\forall_j \\cdot \\quad (\\sum_{i=0}^{N} p[i,j] \\quad) = 1\n",
    "$$\n",
    "\n",
    "A função *prova_logica_inteira* recebe um N(número de pombos) e testa se está alocado apenas um pombo a cada poleiro."
   ]
  },
  {
   "cell_type": "code",
   "execution_count": 3,
   "metadata": {},
   "outputs": [
    {
     "data": {
      "text/plain": [
       "False"
      ]
     },
     "execution_count": 3,
     "metadata": {},
     "output_type": "execute_result"
    }
   ],
   "source": [
    "def prova_logica_inteira (N):\n",
    "    s=Solver()\n",
    "    \n",
    "    p={}\n",
    "    # O pombo i está no poleiro j\n",
    "    for i in range(N):\n",
    "        for j in range(N-1):\n",
    "            p[i,j]=Int(str(i)+','+str(j))\n",
    "    \n",
    "    # Cada pombo está num só poleiro\n",
    "    for i in range(N):\n",
    "        s.add(Sum([ p[i,j] for j in range(N-1)])==1)\n",
    "    \n",
    "    # Cada poleiro só tem um pombo\n",
    "    for j in range(N-1):\n",
    "        s.add(Sum([ p[i,j] for i in range(N)])==1)\n",
    "        \n",
    "    return s.check()==sat\n",
    "\n",
    "prova_logica_inteira (100)"
   ]
  },
  {
   "cell_type": "markdown",
   "metadata": {},
   "source": [
    "    b.)\n",
    "Nesta alínea é nos pedido para analisarmos a complexidade das funções em função de N de forma empírica."
   ]
  },
  {
   "cell_type": "code",
   "execution_count": 4,
   "metadata": {},
   "outputs": [
    {
     "name": "stdout",
     "output_type": "stream",
     "text": [
      "Número de pombos: 1\n",
      "LP: 0.04610707666665803\n",
      "LLI: 0.04434451966668954\n",
      "\n",
      "\n",
      "Número de pombos: 2\n",
      "LP: 0.027354755666692654\n",
      "LLI: 0.021401764999988398\n",
      "\n",
      "\n",
      "Número de pombos: 3\n",
      "LP: 0.03407056933330447\n",
      "LLI: 0.03504469999999552\n",
      "\n",
      "\n",
      "Número de pombos: 4\n",
      "LP: 0.035864415666613546\n",
      "LLI: 0.040126055666632965\n",
      "\n",
      "\n",
      "Número de pombos: 5\n",
      "LP: 0.04622619833336709\n",
      "LLI: 0.026184544666648435\n",
      "\n",
      "\n",
      "Número de pombos: 6\n",
      "LP: 0.05728696266669431\n",
      "LLI: 0.032325317333288694\n",
      "\n",
      "\n",
      "Número de pombos: 7\n",
      "LP: 0.07824739099995288\n",
      "LLI: 0.03160527566660676\n",
      "\n",
      "\n",
      "Número de pombos: 8\n",
      "LP: 0.12422898933330846\n",
      "LLI: 0.036002489999949226\n",
      "\n",
      "\n",
      "Número de pombos: 9\n",
      "LP: 0.7804515926666227\n",
      "LLI: 0.09424787999993593\n",
      "\n",
      "\n",
      "Número de pombos: 10\n",
      "LP: 1.7867578046666495\n",
      "LLI: 0.04472313966668177\n",
      "\n",
      "\n"
     ]
    }
   ],
   "source": [
    "from timeit import timeit\n",
    "\n",
    "Max = 11\n",
    "N_pombos = 1\n",
    "while (N_pombos < Max):\n",
    "    print(\"Número de pombos:\",N_pombos)\n",
    "    \n",
    "    # LP = Lógica Proposicional \n",
    "    print(\"LP:\",timeit(setup=\"from __main__ import prova_logica_proposicional,N_pombos\",\\\n",
    "           stmt=\"prova_logica_proposicional(N_pombos)\",number=3)/3)\n",
    "\n",
    "    # LLI = Lógica Linear Inteira\n",
    "    print(\"LLI:\",timeit(setup=\"from __main__ import prova_logica_inteira,N_pombos\",\\\n",
    "           stmt=\"prova_logica_inteira(N_pombos)\",number=3)/3)\n",
    "    \n",
    "    print(\"\\n\")\n",
    "    \n",
    "    N_pombos += 1"
   ]
  },
  {
   "cell_type": "markdown",
   "metadata": {},
   "source": [
    "Gráfico do tempo de execução da **Lógica Proposicional**"
   ]
  },
  {
   "cell_type": "code",
   "execution_count": 5,
   "metadata": {},
   "outputs": [
    {
     "data": {
      "image/png": "[encoded data removed]",
      "text/plain": [
       "<Figure size 432x288 with 1 Axes>"
      ]
     },
     "metadata": {
      "needs_background": "light"
     },
     "output_type": "display_data"
    }
   ],
   "source": [
    "plt.plot(range(1, 12), [timeit(setup=\"from __main__ import prova_logica_proposicional\", \\\n",
    "       stmt=f\"prova_logica_proposicional({x})\", number = 1) for x in range(1, 12)])\n",
    "plt.show()"
   ]
  },
  {
   "cell_type": "markdown",
   "metadata": {},
   "source": [
    "Gráfico do tempo de execução da **Lógica Linear Inteira**"
   ]
  },
  {
   "cell_type": "code",
   "execution_count": 6,
   "metadata": {},
   "outputs": [
    {
     "data": {
      "image/png": "[encoded data removed]",
      "text/plain": [
       "<Figure size 432x288 with 1 Axes>"
      ]
     },
     "metadata": {
      "needs_background": "light"
     },
     "output_type": "display_data"
    }
   ],
   "source": [
    "plt.plot(range(1, 200,10), [timeit(setup=\"from __main__ import prova_logica_inteira\", \\\n",
    "       stmt=f\"prova_logica_inteira({x})\", number = 1) for x in range(1, 200,10)])\n",
    "plt.show()"
   ]
  }
 ],
 "metadata": {
  "kernelspec": {
   "display_name": "Python 3",
   "language": "python",
   "name": "python3"
  },
  "language_info": {
   "codemirror_mode": {
    "name": "ipython",
    "version": 3
   },
   "file_extension": ".py",
   "mimetype": "text/x-python",
   "name": "python",
   "nbconvert_exporter": "python",
   "pygments_lexer": "ipython3",
   "version": "3.8.3"
  }
 },
 "nbformat": 4,
 "nbformat_minor": 4
}
